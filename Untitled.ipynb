{
 "cells": [
  {
   "cell_type": "code",
   "execution_count": 1,
   "id": "b78e770c-3523-4308-abcd-26e4429b93d2",
   "metadata": {},
   "outputs": [
    {
     "ename": "SyntaxError",
     "evalue": "incomplete input (3295012379.py, line 38)",
     "output_type": "error",
     "traceback": [
      "  \u001b[36mCell\u001b[39m\u001b[36m \u001b[39m\u001b[32mIn[1]\u001b[39m\u001b[32m, line 38\u001b[39m\n\u001b[31m    \u001b[39m\u001b[31mapp.run(host='0.0.0.0', port=5000, debug=T\u001b[39m\n                                              ^\n\u001b[31mSyntaxError\u001b[39m\u001b[31m:\u001b[39m incomplete input\n"
     ]
    }
   ],
   "source": [
    "import boto3\n",
    "from flask import Flask, render_template\n",
    "\n",
    "app = Flask(__name__)\n",
    "\n",
    "S3_BUCKET = 'sarthakdasstorage1'\n",
    "AWS_REGION = 'eu-north-1'\n",
    "\n",
    "s3_client = boto3.client('s3', region_name=AWS_REGION)\n",
    "\n",
    "@app.route('/')\n",
    "def home():\n",
    "    video_urls = []\n",
    "    try:\n",
    "        response = s3_client.list_objects_v2(Bucket=S3_BUCKET)\n",
    "        \n",
    "        if 'Contents' in response:\n",
    "            video_files = [\n",
    "                obj['Key'] for obj in response['Contents'] \n",
    "                if obj['Key'].lower().endswith(('.mp4', '.mov', '.avi'))\n",
    "            ]\n",
    "\n",
    "            for video_key in video_files:\n",
    "                url = s3_client.generate_presigned_url(\n",
    "                    'get_object',\n",
    "                    Params={'Bucket': S3_BUCKET, 'Key': video_key},\n",
    "                    ExpiresIn=3600\n",
    "                )\n",
    "                video_urls.append({'key': video_key, 'url': url})\n",
    "\n",
    "    except Exception as e:\n",
    "        print(f\"Error fetching from S3: {e}\")\n",
    "        pass\n",
    "\n",
    "    return render_template('index.html', videos=video_urls)\n",
    "\n",
    "if __name__ == '__main__':\n",
    "    app.run(host='0.0.0.0', port=5000, debug=T"
   ]
  },
  {
   "cell_type": "code",
   "execution_count": null,
   "id": "5e302b91-b8fb-4c7c-b62b-ffb02a085cc3",
   "metadata": {},
   "outputs": [],
   "source": []
  }
 ],
 "metadata": {
  "kernelspec": {
   "display_name": "Python 3 (ipykernel)",
   "language": "python",
   "name": "python3"
  },
  "language_info": {
   "codemirror_mode": {
    "name": "ipython",
    "version": 3
   },
   "file_extension": ".py",
   "mimetype": "text/x-python",
   "name": "python",
   "nbconvert_exporter": "python",
   "pygments_lexer": "ipython3",
   "version": "3.11.9"
  }
 },
 "nbformat": 4,
 "nbformat_minor": 5
}
